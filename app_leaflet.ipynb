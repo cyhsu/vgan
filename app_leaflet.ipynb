{
 "cells": [
  {
   "cell_type": "code",
   "execution_count": 1,
   "metadata": {},
   "outputs": [],
   "source": [
    "from vgan import *"
   ]
  },
  {
   "cell_type": "code",
   "execution_count": 2,
   "metadata": {},
   "outputs": [],
   "source": [
    "MissionList = checkDownloadList()\n",
    "mission_status = getJson('mission_status.json')\n",
    "dh = getHYCOM_Local()"
   ]
  },
  {
   "cell_type": "code",
   "execution_count": 4,
   "metadata": {
    "collapsed": true,
    "jupyter": {
     "outputs_hidden": true
    },
    "scrolled": true
   },
   "outputs": [
    {
     "data": {
      "application/vnd.jupyter.widget-view+json": {
       "model_id": "80965e810f434ac38ef765aec519acb1",
       "version_major": 2,
       "version_minor": 0
      },
      "text/plain": [
       "Map(center=[26.3, -89.9], controls=(ZoomControl(options=['position', 'zoom_in_text', 'zoom_in_title', 'zoom_ou…"
      ]
     },
     "metadata": {},
     "output_type": "display_data"
    }
   ],
   "source": [
    "mission = 'ng314-20200806T2040'\n",
    "Lmap = createLeafletMap()\n",
    "for mi in MissionList:\n",
    "    MarkerPopup, DataPath = None, mission_status[mi]['Data Path']\n",
    "    dd = getGliderData(DataPath+'/{}'.format(mi))[['time','longitude','latitude']]\n",
    "    lon, lat, tim= dd.longitude.unique(), dd.latitude.unique(), dd.time.values\n",
    "    MapGliderLocation = [[a,b] for (a,b) in zip(lat,lon)]\n",
    "\n",
    "    Lmap = createLeafletPolyline(Lmap, MapGliderLocation)\n",
    "    if mission == mi: \n",
    "        MarkerPopup = True\n",
    "        Lmap = createLeafletPolyline(Lmap, MapGliderLocation, color='white')\n",
    "    Lmap = createLeafletMarker(Lmap, mi, MapGliderLocation, MarkerPopup)\n",
    "\n",
    "Lmap = createLeafletVelocity(Lmap, dh.isel(time=-1,depth=0))\n",
    "Lmap"
   ]
  },
  {
   "cell_type": "code",
   "execution_count": 5,
   "metadata": {},
   "outputs": [
    {
     "data": {
      "application/vnd.jupyter.widget-view+json": {
       "model_id": "5a8322f46a4a4017b12c883e9a1cbcc6",
       "version_major": 2,
       "version_minor": 0
      },
      "text/plain": [
       "Map(center=[26.3, -89.9], controls=(ZoomControl(options=['position', 'zoom_in_text', 'zoom_in_title', 'zoom_ou…"
      ]
     },
     "metadata": {},
     "output_type": "display_data"
    }
   ],
   "source": [
    "from vgan import *\n",
    "dh = getHYCOM_Local()\n",
    "Lmap = createLeafletMap()\n",
    "Lmap = createLeafletVelocity(Lmap, \n",
    "                             dh.isel(time=-1, \n",
    "                                     depth=0))\n",
    "Lmap"
   ]
  },
  {
   "cell_type": "code",
   "execution_count": null,
   "metadata": {},
   "outputs": [],
   "source": []
  }
 ],
 "metadata": {
  "kernelspec": {
   "display_name": "Python 3",
   "language": "python",
   "name": "python3"
  },
  "language_info": {
   "codemirror_mode": {
    "name": "ipython",
    "version": 3
   },
   "file_extension": ".py",
   "mimetype": "text/x-python",
   "name": "python",
   "nbconvert_exporter": "python",
   "pygments_lexer": "ipython3",
   "version": "3.6.11"
  }
 },
 "nbformat": 4,
 "nbformat_minor": 4
}
