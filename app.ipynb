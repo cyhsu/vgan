{
 "cells": [
  {
   "cell_type": "code",
   "execution_count": 1,
   "metadata": {},
   "outputs": [
    {
     "data": {
      "application/vnd.jupyter.widget-view+json": {
       "model_id": "db5752ad17e14ff2aeab04d9de3e56d5",
       "version_major": 2,
       "version_minor": 0
      },
      "text/plain": [
       "Map(center=[26.3, -89.9], controls=(ZoomControl(options=['position', 'zoom_in_text', 'zoom_in_title', 'zoom_ou…"
      ]
     },
     "metadata": {},
     "output_type": "display_data"
    }
   ],
   "source": [
    "import vgan\n",
    "MissionList = vgan.checkDownloadList()\n",
    "mission_status = vgan.getJson('mission_status.json')\n",
    "dh = vgan.getHYCOM_Local()\n",
    "\n",
    "Lmap = vgan.createLeafletMap()\n",
    "for mission in MissionList:\n",
    "    DataPath = mission_status[mission]['Data Path']\n",
    "    dd = vgan.getGliderData(DataPath+'/{}'.format(mission))[['time','longitude','latitude']]\n",
    "    lon, lat, tim= dd.longitude.unique(), dd.latitude.unique(), dd.time.values\n",
    "    MapGliderLocation = [[a,b] for (a,b) in zip(lat,lon)]\n",
    "\n",
    "\n",
    "    Lmap = vgan.createLeafletMarker(Lmap, mission, MapGliderLocation)\n",
    "    Lmap = vgan.createLeafletPolyline(Lmap, MapGliderLocation)\n",
    "\n",
    "Lmap = vgan.createLeafletVelocity(Lmap, dh.isel(time=-1,depth=0))\n",
    "Lmap"
   ]
  },
  {
   "cell_type": "code",
   "execution_count": null,
   "metadata": {},
   "outputs": [],
   "source": [
    "vgan.widgets"
   ]
  }
 ],
 "metadata": {
  "kernelspec": {
   "display_name": "Python 3",
   "language": "python",
   "name": "python3"
  },
  "language_info": {
   "codemirror_mode": {
    "name": "ipython",
    "version": 3
   },
   "file_extension": ".py",
   "mimetype": "text/x-python",
   "name": "python",
   "nbconvert_exporter": "python",
   "pygments_lexer": "ipython3",
   "version": "3.6.11"
  }
 },
 "nbformat": 4,
 "nbformat_minor": 4
}
