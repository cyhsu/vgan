{
 "cells": [
  {
   "cell_type": "markdown",
   "metadata": {},
   "source": [
    "### How to process the glider dataset from GDAC  https://gliders.ioos.us/    \n",
    "\n",
    "In this notebook, we are talking about how to reach glider data by using our package."
   ]
  },
  {
   "cell_type": "code",
   "execution_count": 1,
   "metadata": {},
   "outputs": [],
   "source": [
    "from vgan import *"
   ]
  },
  {
   "cell_type": "code",
   "execution_count": 2,
   "metadata": {},
   "outputs": [],
   "source": [
    "#--- Loading Parameters. \n",
    "PIinfo = getJson('PIinfo.json')\n",
    "parameters = getJson('VGANparas.json')"
   ]
  },
  {
   "cell_type": "code",
   "execution_count": 3,
   "metadata": {},
   "outputs": [],
   "source": [
    "#--- Download Glider Mission List from GDAC\n",
    "saveHTML('index.html',url='https://gliders.ioos.us/erddap/tabledap/index.html')"
   ]
  },
  {
   "cell_type": "code",
   "execution_count": 4,
   "metadata": {},
   "outputs": [],
   "source": [
    "#--- Extract the mission items\n",
    "mission_list = getMissionList('index.html')"
   ]
  },
  {
   "cell_type": "code",
   "execution_count": 5,
   "metadata": {},
   "outputs": [],
   "source": [
    "#--- Check whether there is any mission in \"Active\" status\n",
    "checkGDAC(mission_list)"
   ]
  },
  {
   "cell_type": "code",
   "execution_count": 6,
   "metadata": {},
   "outputs": [
    {
     "name": "stdout",
     "output_type": "stream",
     "text": [
      "Active:  ng314-20200806T2040\n",
      "Active:  Stommel-20200813T1200\n",
      "Active:  usf-gansett-20200813T1200\n"
     ]
    }
   ],
   "source": [
    "#--- Update the Mission Status for \"Active\" missions\n",
    "updateMission(mission_list)"
   ]
  },
  {
   "cell_type": "code",
   "execution_count": 7,
   "metadata": {},
   "outputs": [],
   "source": [
    "#--- Reload and restore the  \"Active\" missions data\n",
    "MissionList = checkDownloadList()"
   ]
  },
  {
   "cell_type": "code",
   "execution_count": 8,
   "metadata": {
    "scrolled": true
   },
   "outputs": [
    {
     "name": "stdout",
     "output_type": "stream",
     "text": [
      "PI (Steven DiMarco)'s Contribution is calculated!\n",
      "PI (Matthew Howard)'s Contribution is calculated!\n",
      "PI (Tony Knap)'s Contribution is calculated!\n",
      "PI (John Kerfoot)'s Contribution is calculated!\n",
      "PI (Jordon Beckler)'s Contribution is calculated!\n",
      "PI (Stephan Howden)'s Contribution is calculated!\n"
     ]
    },
    {
     "name": "stderr",
     "output_type": "stream",
     "text": [
      "/Users/cyhsu/miniconda3/envs/franke/lib/python3.6/site-packages/IPython/core/interactiveshell.py:3343: DtypeWarning: Columns (15) have mixed types.Specify dtype option on import or set low_memory=False.\n",
      "  exec(code_obj, self.user_global_ns, self.user_ns)\n",
      "/Users/cyhsu/miniconda3/envs/franke/lib/python3.6/site-packages/IPython/core/interactiveshell.py:3343: DtypeWarning: Columns (15) have mixed types.Specify dtype option on import or set low_memory=False.\n",
      "  exec(code_obj, self.user_global_ns, self.user_ns)\n",
      "/Users/cyhsu/miniconda3/envs/franke/lib/python3.6/site-packages/IPython/core/interactiveshell.py:3343: DtypeWarning: Columns (15) have mixed types.Specify dtype option on import or set low_memory=False.\n",
      "  exec(code_obj, self.user_global_ns, self.user_ns)\n"
     ]
    },
    {
     "name": "stdout",
     "output_type": "stream",
     "text": [
      "PI (Chad Lembke)'s Contribution is calculated!\n",
      "PI (Tracey Sutton)'s Contribution is calculated!\n"
     ]
    },
    {
     "name": "stderr",
     "output_type": "stream",
     "text": [
      "/Users/cyhsu/miniconda3/envs/franke/lib/python3.6/site-packages/IPython/core/interactiveshell.py:3343: DtypeWarning: Columns (15) have mixed types.Specify dtype option on import or set low_memory=False.\n",
      "  exec(code_obj, self.user_global_ns, self.user_ns)\n"
     ]
    },
    {
     "name": "stdout",
     "output_type": "stream",
     "text": [
      "PI (Harvey Seim)'s Contribution is calculated!\n",
      "PI (Oscar Schofield)'s Contribution is calculated!\n",
      "PI (Kurt Polzin)'s Contribution is calculated!\n"
     ]
    },
    {
     "name": "stderr",
     "output_type": "stream",
     "text": [
      "/Users/cyhsu/miniconda3/envs/franke/lib/python3.6/site-packages/IPython/core/interactiveshell.py:3343: DtypeWarning: Columns (15) have mixed types.Specify dtype option on import or set low_memory=False.\n",
      "  exec(code_obj, self.user_global_ns, self.user_ns)\n",
      "/Users/cyhsu/miniconda3/envs/franke/lib/python3.6/site-packages/IPython/core/interactiveshell.py:3343: DtypeWarning: Columns (15) have mixed types.Specify dtype option on import or set low_memory=False.\n",
      "  exec(code_obj, self.user_global_ns, self.user_ns)\n"
     ]
    },
    {
     "name": "stdout",
     "output_type": "stream",
     "text": [
      "PI (Catherine Edwards)'s Contribution is calculated!\n"
     ]
    },
    {
     "name": "stderr",
     "output_type": "stream",
     "text": [
      "/Users/cyhsu/miniconda3/envs/franke/lib/python3.6/site-packages/IPython/core/interactiveshell.py:3343: DtypeWarning: Columns (15) have mixed types.Specify dtype option on import or set low_memory=False.\n",
      "  exec(code_obj, self.user_global_ns, self.user_ns)\n"
     ]
    },
    {
     "name": "stdout",
     "output_type": "stream",
     "text": [
      "PI (Ruoying He)'s Contribution is calculated!\n",
      "PI (Gustavo Goni)'s Contribution is calculated!\n",
      "PI (Bob Simons)'s Contribution is calculated!\n"
     ]
    }
   ],
   "source": [
    "#--- Calculate the PI's contribution\n",
    "for PI in PIinfo.keys():\n",
    "    PIcontribution(PI)"
   ]
  },
  {
   "cell_type": "code",
   "execution_count": 9,
   "metadata": {},
   "outputs": [],
   "source": [
    "#--- Extract the earliest/latest datetime from \"Active\" missions\n",
    "DatePeriod = checkModelDownloadPeriod(MissionList)"
   ]
  },
  {
   "cell_type": "code",
   "execution_count": null,
   "metadata": {},
   "outputs": [],
   "source": [
    "#--- Download the HYCOM Hindcast Model outputs, and Interpolate the model output into glider position (lon/lat/time)\n",
    "downloadHYCOM_FTP(DatePeriod)\n",
    "if len(MissionList) > 0: computeHYCOM_Comparison(MissionList)"
   ]
  }
 ],
 "metadata": {
  "kernelspec": {
   "display_name": "Python 3",
   "language": "python",
   "name": "python3"
  },
  "language_info": {
   "codemirror_mode": {
    "name": "ipython",
    "version": 3
   },
   "file_extension": ".py",
   "mimetype": "text/x-python",
   "name": "python",
   "nbconvert_exporter": "python",
   "pygments_lexer": "ipython3",
   "version": "3.6.11"
  }
 },
 "nbformat": 4,
 "nbformat_minor": 4
}
